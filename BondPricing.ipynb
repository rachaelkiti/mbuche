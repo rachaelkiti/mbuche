{
 "cells": [
  {
   "cell_type": "code",
   "execution_count": 2,
   "id": "d2a0a55e-3459-4961-8efd-8efbf56062ee",
   "metadata": {},
   "outputs": [],
   "source": [
    "import datetime"
   ]
  },
  {
   "cell_type": "code",
   "execution_count": 3,
   "id": "288269eb-4d1b-4352-bd06-5075a324043b",
   "metadata": {},
   "outputs": [],
   "source": [
    "LastCoupon = datetime.date(2022,5,15)"
   ]
  },
  {
   "cell_type": "code",
   "execution_count": 4,
   "id": "5e7e754c-05f1-4613-a0da-03698fa49806",
   "metadata": {},
   "outputs": [],
   "source": [
    "NextCoupon = datetime.date(2022,11,15)"
   ]
  },
  {
   "cell_type": "code",
   "execution_count": 9,
   "id": "37c58298-51bc-4bc1-b340-460d14dc7e62",
   "metadata": {},
   "outputs": [],
   "source": [
    "SettleDate = datetime.date(2022,9,1)"
   ]
  },
  {
   "cell_type": "code",
   "execution_count": 6,
   "id": "89bb236d-5d59-4018-b28d-cd6b41914f1b",
   "metadata": {},
   "outputs": [],
   "source": [
    "MaturityDate = datetime.date(2027,11,15)"
   ]
  },
  {
   "cell_type": "code",
   "execution_count": 7,
   "id": "37e495fd-58ae-4433-a671-4e177024768e",
   "metadata": {},
   "outputs": [],
   "source": [
    "TotalDays = (NextCoupon - LastCoupon)"
   ]
  },
  {
   "cell_type": "code",
   "execution_count": 10,
   "id": "3d814189-55fc-4392-a822-24463fc2b2ab",
   "metadata": {},
   "outputs": [],
   "source": [
    "RemainingDays = (NextCoupon - SettleDate)"
   ]
  },
  {
   "cell_type": "code",
   "execution_count": 18,
   "id": "7ce30a4d-90f0-4d21-a212-8ef2b5cfc62e",
   "metadata": {},
   "outputs": [],
   "source": [
    "FractionPeriod = (RemainingDays/TotalDays)"
   ]
  },
  {
   "cell_type": "code",
   "execution_count": 12,
   "id": "8a0e7f51-7378-4768-aa1d-f3d1efa73ea0",
   "metadata": {},
   "outputs": [
    {
     "name": "stdout",
     "output_type": "stream",
     "text": [
      "The Total days is:  184\n"
     ]
    }
   ],
   "source": [
    "print(\"The Total days is: \", TotalDays.days)"
   ]
  },
  {
   "cell_type": "code",
   "execution_count": 16,
   "id": "a8001d89-a79a-4aca-bb90-2fcee15f58cb",
   "metadata": {},
   "outputs": [
    {
     "name": "stdout",
     "output_type": "stream",
     "text": [
      "The Remaining days are:  75\n"
     ]
    }
   ],
   "source": [
    "print(\"The Remaining days are: \", RemainingDays.days)"
   ]
  },
  {
   "cell_type": "raw",
   "id": "12bd469d-5e4d-490c-bf1d-41f7b88f7e06",
   "metadata": {},
   "source": []
  },
  {
   "cell_type": "code",
   "execution_count": 21,
   "id": "a3291234-a3b7-4188-b7ef-2dfc65541c6f",
   "metadata": {},
   "outputs": [
    {
     "ename": "SyntaxError",
     "evalue": "unexpected EOF while parsing (1366945404.py, line 2)",
     "output_type": "error",
     "traceback": [
      "\u001b[1;36m  Input \u001b[1;32mIn [21]\u001b[1;36m\u001b[0m\n\u001b[1;33m    \u001b[0m\n\u001b[1;37m    ^\u001b[0m\n\u001b[1;31mSyntaxError\u001b[0m\u001b[1;31m:\u001b[0m unexpected EOF while parsing\n"
     ]
    }
   ],
   "source": [
    "print(\"The fractional period is: \", round(FractionPeriod, 4)\n",
    "    "
   ]
  },
  {
   "cell_type": "code",
   "execution_count": null,
   "id": "f04622b8-c5ce-420b-aa4f-a644e7cf9822",
   "metadata": {},
   "outputs": [],
   "source": []
  }
 ],
 "metadata": {
  "kernelspec": {
   "display_name": "Python 3 (ipykernel)",
   "language": "python",
   "name": "python3"
  },
  "language_info": {
   "codemirror_mode": {
    "name": "ipython",
    "version": 3
   },
   "file_extension": ".py",
   "mimetype": "text/x-python",
   "name": "python",
   "nbconvert_exporter": "python",
   "pygments_lexer": "ipython3",
   "version": "3.9.12"
  }
 },
 "nbformat": 4,
 "nbformat_minor": 5
}
